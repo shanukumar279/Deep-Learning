{
 "cells": [
  {
   "cell_type": "markdown",
   "metadata": {},
   "source": [
    "Dataset link --- https://www.kaggle.com/blastchar/telco-customer-churn"
   ]
  },
  {
   "cell_type": "markdown",
   "metadata": {},
   "source": [
    "Aim -- To predict whether customer keeps or left the Telecom Service."
   ]
  },
  {
   "cell_type": "code",
   "execution_count": 1,
   "metadata": {},
   "outputs": [],
   "source": [
    "from IPython.core.interactiveshell import InteractiveShell\n",
    "InteractiveShell.ast_node_interactivity = 'all'"
   ]
  },
  {
   "cell_type": "code",
   "execution_count": 2,
   "metadata": {},
   "outputs": [],
   "source": [
    "import warnings\n",
    "warnings.filterwarnings(\"ignore\")"
   ]
  },
  {
   "cell_type": "code",
   "execution_count": 3,
   "metadata": {},
   "outputs": [],
   "source": [
    "#Loading important libraries\n",
    "\n",
    "import numpy as np\n",
    "import pandas as pd\n",
    "import matplotlib.pyplot as plt\n",
    "import seaborn as sns\n",
    "%matplotlib inline"
   ]
  },
  {
   "cell_type": "code",
   "execution_count": 4,
   "metadata": {},
   "outputs": [],
   "source": [
    "data = pd.read_csv(\"F:\\\\ML NOTES\\\\Dataset\\\\Telco-Customer-Churn.csv\")"
   ]
  },
  {
   "cell_type": "code",
   "execution_count": 5,
   "metadata": {},
   "outputs": [
    {
     "data": {
      "text/plain": [
       "(7043, 21)"
      ]
     },
     "execution_count": 5,
     "metadata": {},
     "output_type": "execute_result"
    }
   ],
   "source": [
    "data.shape"
   ]
  },
  {
   "cell_type": "code",
   "execution_count": 6,
   "metadata": {},
   "outputs": [],
   "source": [
    "pd.set_option('display.max_columns', None)"
   ]
  },
  {
   "cell_type": "code",
   "execution_count": 7,
   "metadata": {},
   "outputs": [
    {
     "data": {
      "text/html": [
       "<div>\n",
       "<style scoped>\n",
       "    .dataframe tbody tr th:only-of-type {\n",
       "        vertical-align: middle;\n",
       "    }\n",
       "\n",
       "    .dataframe tbody tr th {\n",
       "        vertical-align: top;\n",
       "    }\n",
       "\n",
       "    .dataframe thead th {\n",
       "        text-align: right;\n",
       "    }\n",
       "</style>\n",
       "<table border=\"1\" class=\"dataframe\">\n",
       "  <thead>\n",
       "    <tr style=\"text-align: right;\">\n",
       "      <th></th>\n",
       "      <th>customerID</th>\n",
       "      <th>gender</th>\n",
       "      <th>SeniorCitizen</th>\n",
       "      <th>Partner</th>\n",
       "      <th>Dependents</th>\n",
       "      <th>tenure</th>\n",
       "      <th>PhoneService</th>\n",
       "      <th>MultipleLines</th>\n",
       "      <th>InternetService</th>\n",
       "      <th>OnlineSecurity</th>\n",
       "      <th>OnlineBackup</th>\n",
       "      <th>DeviceProtection</th>\n",
       "      <th>TechSupport</th>\n",
       "      <th>StreamingTV</th>\n",
       "      <th>StreamingMovies</th>\n",
       "      <th>Contract</th>\n",
       "      <th>PaperlessBilling</th>\n",
       "      <th>PaymentMethod</th>\n",
       "      <th>MonthlyCharges</th>\n",
       "      <th>TotalCharges</th>\n",
       "      <th>Churn</th>\n",
       "    </tr>\n",
       "  </thead>\n",
       "  <tbody>\n",
       "    <tr>\n",
       "      <th>0</th>\n",
       "      <td>7590-VHVEG</td>\n",
       "      <td>Female</td>\n",
       "      <td>0</td>\n",
       "      <td>Yes</td>\n",
       "      <td>No</td>\n",
       "      <td>1</td>\n",
       "      <td>No</td>\n",
       "      <td>No phone service</td>\n",
       "      <td>DSL</td>\n",
       "      <td>No</td>\n",
       "      <td>Yes</td>\n",
       "      <td>No</td>\n",
       "      <td>No</td>\n",
       "      <td>No</td>\n",
       "      <td>No</td>\n",
       "      <td>Month-to-month</td>\n",
       "      <td>Yes</td>\n",
       "      <td>Electronic check</td>\n",
       "      <td>29.85</td>\n",
       "      <td>29.85</td>\n",
       "      <td>No</td>\n",
       "    </tr>\n",
       "    <tr>\n",
       "      <th>1</th>\n",
       "      <td>5575-GNVDE</td>\n",
       "      <td>Male</td>\n",
       "      <td>0</td>\n",
       "      <td>No</td>\n",
       "      <td>No</td>\n",
       "      <td>34</td>\n",
       "      <td>Yes</td>\n",
       "      <td>No</td>\n",
       "      <td>DSL</td>\n",
       "      <td>Yes</td>\n",
       "      <td>No</td>\n",
       "      <td>Yes</td>\n",
       "      <td>No</td>\n",
       "      <td>No</td>\n",
       "      <td>No</td>\n",
       "      <td>One year</td>\n",
       "      <td>No</td>\n",
       "      <td>Mailed check</td>\n",
       "      <td>56.95</td>\n",
       "      <td>1889.5</td>\n",
       "      <td>No</td>\n",
       "    </tr>\n",
       "    <tr>\n",
       "      <th>2</th>\n",
       "      <td>3668-QPYBK</td>\n",
       "      <td>Male</td>\n",
       "      <td>0</td>\n",
       "      <td>No</td>\n",
       "      <td>No</td>\n",
       "      <td>2</td>\n",
       "      <td>Yes</td>\n",
       "      <td>No</td>\n",
       "      <td>DSL</td>\n",
       "      <td>Yes</td>\n",
       "      <td>Yes</td>\n",
       "      <td>No</td>\n",
       "      <td>No</td>\n",
       "      <td>No</td>\n",
       "      <td>No</td>\n",
       "      <td>Month-to-month</td>\n",
       "      <td>Yes</td>\n",
       "      <td>Mailed check</td>\n",
       "      <td>53.85</td>\n",
       "      <td>108.15</td>\n",
       "      <td>Yes</td>\n",
       "    </tr>\n",
       "    <tr>\n",
       "      <th>3</th>\n",
       "      <td>7795-CFOCW</td>\n",
       "      <td>Male</td>\n",
       "      <td>0</td>\n",
       "      <td>No</td>\n",
       "      <td>No</td>\n",
       "      <td>45</td>\n",
       "      <td>No</td>\n",
       "      <td>No phone service</td>\n",
       "      <td>DSL</td>\n",
       "      <td>Yes</td>\n",
       "      <td>No</td>\n",
       "      <td>Yes</td>\n",
       "      <td>Yes</td>\n",
       "      <td>No</td>\n",
       "      <td>No</td>\n",
       "      <td>One year</td>\n",
       "      <td>No</td>\n",
       "      <td>Bank transfer (automatic)</td>\n",
       "      <td>42.30</td>\n",
       "      <td>1840.75</td>\n",
       "      <td>No</td>\n",
       "    </tr>\n",
       "    <tr>\n",
       "      <th>4</th>\n",
       "      <td>9237-HQITU</td>\n",
       "      <td>Female</td>\n",
       "      <td>0</td>\n",
       "      <td>No</td>\n",
       "      <td>No</td>\n",
       "      <td>2</td>\n",
       "      <td>Yes</td>\n",
       "      <td>No</td>\n",
       "      <td>Fiber optic</td>\n",
       "      <td>No</td>\n",
       "      <td>No</td>\n",
       "      <td>No</td>\n",
       "      <td>No</td>\n",
       "      <td>No</td>\n",
       "      <td>No</td>\n",
       "      <td>Month-to-month</td>\n",
       "      <td>Yes</td>\n",
       "      <td>Electronic check</td>\n",
       "      <td>70.70</td>\n",
       "      <td>151.65</td>\n",
       "      <td>Yes</td>\n",
       "    </tr>\n",
       "  </tbody>\n",
       "</table>\n",
       "</div>"
      ],
      "text/plain": [
       "   customerID  gender  SeniorCitizen Partner Dependents  tenure PhoneService  \\\n",
       "0  7590-VHVEG  Female              0     Yes         No       1           No   \n",
       "1  5575-GNVDE    Male              0      No         No      34          Yes   \n",
       "2  3668-QPYBK    Male              0      No         No       2          Yes   \n",
       "3  7795-CFOCW    Male              0      No         No      45           No   \n",
       "4  9237-HQITU  Female              0      No         No       2          Yes   \n",
       "\n",
       "      MultipleLines InternetService OnlineSecurity OnlineBackup  \\\n",
       "0  No phone service             DSL             No          Yes   \n",
       "1                No             DSL            Yes           No   \n",
       "2                No             DSL            Yes          Yes   \n",
       "3  No phone service             DSL            Yes           No   \n",
       "4                No     Fiber optic             No           No   \n",
       "\n",
       "  DeviceProtection TechSupport StreamingTV StreamingMovies        Contract  \\\n",
       "0               No          No          No              No  Month-to-month   \n",
       "1              Yes          No          No              No        One year   \n",
       "2               No          No          No              No  Month-to-month   \n",
       "3              Yes         Yes          No              No        One year   \n",
       "4               No          No          No              No  Month-to-month   \n",
       "\n",
       "  PaperlessBilling              PaymentMethod  MonthlyCharges TotalCharges  \\\n",
       "0              Yes           Electronic check           29.85        29.85   \n",
       "1               No               Mailed check           56.95       1889.5   \n",
       "2              Yes               Mailed check           53.85       108.15   \n",
       "3               No  Bank transfer (automatic)           42.30      1840.75   \n",
       "4              Yes           Electronic check           70.70       151.65   \n",
       "\n",
       "  Churn  \n",
       "0    No  \n",
       "1    No  \n",
       "2   Yes  \n",
       "3    No  \n",
       "4   Yes  "
      ]
     },
     "execution_count": 7,
     "metadata": {},
     "output_type": "execute_result"
    }
   ],
   "source": [
    "data.head()"
   ]
  },
  {
   "cell_type": "code",
   "execution_count": 8,
   "metadata": {},
   "outputs": [
    {
     "name": "stdout",
     "output_type": "stream",
     "text": [
      "<class 'pandas.core.frame.DataFrame'>\n",
      "RangeIndex: 7043 entries, 0 to 7042\n",
      "Data columns (total 21 columns):\n",
      " #   Column            Non-Null Count  Dtype  \n",
      "---  ------            --------------  -----  \n",
      " 0   customerID        7043 non-null   object \n",
      " 1   gender            7043 non-null   object \n",
      " 2   SeniorCitizen     7043 non-null   int64  \n",
      " 3   Partner           7043 non-null   object \n",
      " 4   Dependents        7043 non-null   object \n",
      " 5   tenure            7043 non-null   int64  \n",
      " 6   PhoneService      7043 non-null   object \n",
      " 7   MultipleLines     7043 non-null   object \n",
      " 8   InternetService   7043 non-null   object \n",
      " 9   OnlineSecurity    7043 non-null   object \n",
      " 10  OnlineBackup      7043 non-null   object \n",
      " 11  DeviceProtection  7043 non-null   object \n",
      " 12  TechSupport       7043 non-null   object \n",
      " 13  StreamingTV       7043 non-null   object \n",
      " 14  StreamingMovies   7043 non-null   object \n",
      " 15  Contract          7043 non-null   object \n",
      " 16  PaperlessBilling  7043 non-null   object \n",
      " 17  PaymentMethod     7043 non-null   object \n",
      " 18  MonthlyCharges    7043 non-null   float64\n",
      " 19  TotalCharges      7043 non-null   object \n",
      " 20  Churn             7043 non-null   object \n",
      "dtypes: float64(1), int64(2), object(18)\n",
      "memory usage: 1.1+ MB\n"
     ]
    }
   ],
   "source": [
    "data.info()"
   ]
  },
  {
   "cell_type": "code",
   "execution_count": 9,
   "metadata": {},
   "outputs": [],
   "source": [
    "# Dropping customerID column \n",
    "\n",
    "data = data.drop(['customerID'], axis = 1)"
   ]
  },
  {
   "cell_type": "code",
   "execution_count": 10,
   "metadata": {},
   "outputs": [],
   "source": [
    "# to convert Total Charges column from object to float\n",
    "\n",
    "data[\"TotalCharges\"] = pd.to_numeric(data[\"TotalCharges\"], errors = 'coerce')"
   ]
  },
  {
   "cell_type": "code",
   "execution_count": 11,
   "metadata": {},
   "outputs": [
    {
     "name": "stdout",
     "output_type": "stream",
     "text": [
      "<class 'pandas.core.frame.DataFrame'>\n",
      "RangeIndex: 7043 entries, 0 to 7042\n",
      "Data columns (total 20 columns):\n",
      " #   Column            Non-Null Count  Dtype  \n",
      "---  ------            --------------  -----  \n",
      " 0   gender            7043 non-null   object \n",
      " 1   SeniorCitizen     7043 non-null   int64  \n",
      " 2   Partner           7043 non-null   object \n",
      " 3   Dependents        7043 non-null   object \n",
      " 4   tenure            7043 non-null   int64  \n",
      " 5   PhoneService      7043 non-null   object \n",
      " 6   MultipleLines     7043 non-null   object \n",
      " 7   InternetService   7043 non-null   object \n",
      " 8   OnlineSecurity    7043 non-null   object \n",
      " 9   OnlineBackup      7043 non-null   object \n",
      " 10  DeviceProtection  7043 non-null   object \n",
      " 11  TechSupport       7043 non-null   object \n",
      " 12  StreamingTV       7043 non-null   object \n",
      " 13  StreamingMovies   7043 non-null   object \n",
      " 14  Contract          7043 non-null   object \n",
      " 15  PaperlessBilling  7043 non-null   object \n",
      " 16  PaymentMethod     7043 non-null   object \n",
      " 17  MonthlyCharges    7043 non-null   float64\n",
      " 18  TotalCharges      7032 non-null   float64\n",
      " 19  Churn             7043 non-null   object \n",
      "dtypes: float64(2), int64(2), object(16)\n",
      "memory usage: 1.1+ MB\n"
     ]
    }
   ],
   "source": [
    "data.info()"
   ]
  },
  {
   "cell_type": "code",
   "execution_count": 12,
   "metadata": {},
   "outputs": [
    {
     "data": {
      "text/html": [
       "<div>\n",
       "<style scoped>\n",
       "    .dataframe tbody tr th:only-of-type {\n",
       "        vertical-align: middle;\n",
       "    }\n",
       "\n",
       "    .dataframe tbody tr th {\n",
       "        vertical-align: top;\n",
       "    }\n",
       "\n",
       "    .dataframe thead th {\n",
       "        text-align: right;\n",
       "    }\n",
       "</style>\n",
       "<table border=\"1\" class=\"dataframe\">\n",
       "  <thead>\n",
       "    <tr style=\"text-align: right;\">\n",
       "      <th></th>\n",
       "      <th>%Missing</th>\n",
       "    </tr>\n",
       "  </thead>\n",
       "  <tbody>\n",
       "    <tr>\n",
       "      <th>gender</th>\n",
       "      <td>0.000</td>\n",
       "    </tr>\n",
       "    <tr>\n",
       "      <th>SeniorCitizen</th>\n",
       "      <td>0.000</td>\n",
       "    </tr>\n",
       "    <tr>\n",
       "      <th>Partner</th>\n",
       "      <td>0.000</td>\n",
       "    </tr>\n",
       "    <tr>\n",
       "      <th>Dependents</th>\n",
       "      <td>0.000</td>\n",
       "    </tr>\n",
       "    <tr>\n",
       "      <th>tenure</th>\n",
       "      <td>0.000</td>\n",
       "    </tr>\n",
       "    <tr>\n",
       "      <th>PhoneService</th>\n",
       "      <td>0.000</td>\n",
       "    </tr>\n",
       "    <tr>\n",
       "      <th>MultipleLines</th>\n",
       "      <td>0.000</td>\n",
       "    </tr>\n",
       "    <tr>\n",
       "      <th>InternetService</th>\n",
       "      <td>0.000</td>\n",
       "    </tr>\n",
       "    <tr>\n",
       "      <th>OnlineSecurity</th>\n",
       "      <td>0.000</td>\n",
       "    </tr>\n",
       "    <tr>\n",
       "      <th>OnlineBackup</th>\n",
       "      <td>0.000</td>\n",
       "    </tr>\n",
       "    <tr>\n",
       "      <th>DeviceProtection</th>\n",
       "      <td>0.000</td>\n",
       "    </tr>\n",
       "    <tr>\n",
       "      <th>TechSupport</th>\n",
       "      <td>0.000</td>\n",
       "    </tr>\n",
       "    <tr>\n",
       "      <th>StreamingTV</th>\n",
       "      <td>0.000</td>\n",
       "    </tr>\n",
       "    <tr>\n",
       "      <th>StreamingMovies</th>\n",
       "      <td>0.000</td>\n",
       "    </tr>\n",
       "    <tr>\n",
       "      <th>Contract</th>\n",
       "      <td>0.000</td>\n",
       "    </tr>\n",
       "    <tr>\n",
       "      <th>PaperlessBilling</th>\n",
       "      <td>0.000</td>\n",
       "    </tr>\n",
       "    <tr>\n",
       "      <th>PaymentMethod</th>\n",
       "      <td>0.000</td>\n",
       "    </tr>\n",
       "    <tr>\n",
       "      <th>MonthlyCharges</th>\n",
       "      <td>0.000</td>\n",
       "    </tr>\n",
       "    <tr>\n",
       "      <th>TotalCharges</th>\n",
       "      <td>0.156</td>\n",
       "    </tr>\n",
       "    <tr>\n",
       "      <th>Churn</th>\n",
       "      <td>0.000</td>\n",
       "    </tr>\n",
       "  </tbody>\n",
       "</table>\n",
       "</div>"
      ],
      "text/plain": [
       "                  %Missing\n",
       "gender               0.000\n",
       "SeniorCitizen        0.000\n",
       "Partner              0.000\n",
       "Dependents           0.000\n",
       "tenure               0.000\n",
       "PhoneService         0.000\n",
       "MultipleLines        0.000\n",
       "InternetService      0.000\n",
       "OnlineSecurity       0.000\n",
       "OnlineBackup         0.000\n",
       "DeviceProtection     0.000\n",
       "TechSupport          0.000\n",
       "StreamingTV          0.000\n",
       "StreamingMovies      0.000\n",
       "Contract             0.000\n",
       "PaperlessBilling     0.000\n",
       "PaymentMethod        0.000\n",
       "MonthlyCharges       0.000\n",
       "TotalCharges         0.156\n",
       "Churn                0.000"
      ]
     },
     "execution_count": 12,
     "metadata": {},
     "output_type": "execute_result"
    }
   ],
   "source": [
    "pd.DataFrame(round((data.isnull().sum() / data.shape[0]) * 100, 3), columns = [\"%Missing\"])"
   ]
  },
  {
   "cell_type": "code",
   "execution_count": 13,
   "metadata": {},
   "outputs": [],
   "source": [
    "# Dropping null values from Total Charges which means we need to drop those many rows\n",
    "\n",
    "data.dropna(inplace= True)"
   ]
  },
  {
   "cell_type": "code",
   "execution_count": 14,
   "metadata": {},
   "outputs": [
    {
     "data": {
      "text/plain": [
       "gender              0\n",
       "SeniorCitizen       0\n",
       "Partner             0\n",
       "Dependents          0\n",
       "tenure              0\n",
       "PhoneService        0\n",
       "MultipleLines       0\n",
       "InternetService     0\n",
       "OnlineSecurity      0\n",
       "OnlineBackup        0\n",
       "DeviceProtection    0\n",
       "TechSupport         0\n",
       "StreamingTV         0\n",
       "StreamingMovies     0\n",
       "Contract            0\n",
       "PaperlessBilling    0\n",
       "PaymentMethod       0\n",
       "MonthlyCharges      0\n",
       "TotalCharges        0\n",
       "Churn               0\n",
       "dtype: int64"
      ]
     },
     "execution_count": 14,
     "metadata": {},
     "output_type": "execute_result"
    }
   ],
   "source": [
    "data.isnull().sum()"
   ]
  },
  {
   "cell_type": "code",
   "execution_count": 15,
   "metadata": {},
   "outputs": [
    {
     "data": {
      "image/png": "[encoded data removed]",
      "text/plain": [
       "<Figure size 720x432 with 1 Axes>"
      ]
     },
     "metadata": {
      "needs_background": "light"
     },
     "output_type": "display_data"
    }
   ],
   "source": [
    "tenure_churn_yes = data[data[\"Churn\"] == 'Yes']['tenure']\n",
    "tenure_churn_no = data[data[\"Churn\"] == 'No']['tenure']\n",
    "\n",
    "plt.figure(figsize = (10,6))\n",
    "plt.hist([tenure_churn_yes, tenure_churn_no], color=['green', 'red'], label = ['Churn=Yes', 'Churn=No'])\n",
    "plt.xlabel('Tenure')\n",
    "plt.ylabel('No. of Customer')\n",
    "plt.legend()\n",
    "plt.show();"
   ]
  },
  {
   "cell_type": "code",
   "execution_count": 16,
   "metadata": {},
   "outputs": [
    {
     "data": {
      "image/png": "[encoded data removed]",
      "text/plain": [
       "<Figure size 720x432 with 1 Axes>"
      ]
     },
     "metadata": {
      "needs_background": "light"
     },
     "output_type": "display_data"
    }
   ],
   "source": [
    "mc_churn_yes = data[data[\"Churn\"] == 'Yes']['MonthlyCharges']\n",
    "mc_churn_no = data[data[\"Churn\"] == 'No']['MonthlyCharges']\n",
    "\n",
    "plt.figure(figsize = (10,6))\n",
    "plt.hist([mc_churn_yes, mc_churn_no], color=['green', 'red'], label = ['Churn=Yes', 'Churn=No'])\n",
    "plt.xlabel('MonthlyCharges')\n",
    "plt.ylabel('No. of Customer')\n",
    "plt.legend()\n",
    "plt.show();"
   ]
  },
  {
   "cell_type": "code",
   "execution_count": 17,
   "metadata": {},
   "outputs": [
    {
     "name": "stdout",
     "output_type": "stream",
     "text": [
      "gender : ['Female' 'Male']\n",
      "SeniorCitizen : [0 1]\n",
      "Partner : ['Yes' 'No']\n",
      "Dependents : ['No' 'Yes']\n",
      "tenure : [ 1 34  2 45  8 22 10 28 62 13 16 58 49 25 69 52 71 21 12 30 47 72 17 27\n",
      "  5 46 11 70 63 43 15 60 18 66  9  3 31 50 64 56  7 42 35 48 29 65 38 68\n",
      " 32 55 37 36 41  6  4 33 67 23 57 61 14 20 53 40 59 24 44 19 54 51 26 39]\n",
      "PhoneService : ['No' 'Yes']\n",
      "MultipleLines : ['No phone service' 'No' 'Yes']\n",
      "InternetService : ['DSL' 'Fiber optic' 'No']\n",
      "OnlineSecurity : ['No' 'Yes' 'No internet service']\n",
      "OnlineBackup : ['Yes' 'No' 'No internet service']\n",
      "DeviceProtection : ['No' 'Yes' 'No internet service']\n",
      "TechSupport : ['No' 'Yes' 'No internet service']\n",
      "StreamingTV : ['No' 'Yes' 'No internet service']\n",
      "StreamingMovies : ['No' 'Yes' 'No internet service']\n",
      "Contract : ['Month-to-month' 'One year' 'Two year']\n",
      "PaperlessBilling : ['Yes' 'No']\n",
      "PaymentMethod : ['Electronic check' 'Mailed check' 'Bank transfer (automatic)'\n",
      " 'Credit card (automatic)']\n",
      "MonthlyCharges : [29.85 56.95 53.85 ... 63.1  44.2  78.7 ]\n",
      "TotalCharges : [  29.85 1889.5   108.15 ...  346.45  306.6  6844.5 ]\n",
      "Churn : ['No' 'Yes']\n"
     ]
    }
   ],
   "source": [
    "def unique_col_value(data):\n",
    "    for column in data:\n",
    "        print(f'{column} : {data[column].unique()}')\n",
    "        \n",
    "unique_col_value(data)"
   ]
  },
  {
   "cell_type": "code",
   "execution_count": 18,
   "metadata": {},
   "outputs": [],
   "source": [
    "# We will replace 'No phone service' & 'No internet service' with No from the whole dataset wherever it is present\n",
    "\n",
    "data.replace('No phone service', 'No', inplace= True)\n",
    "data.replace('No internet service', 'No', inplace= True)"
   ]
  },
  {
   "cell_type": "code",
   "execution_count": 19,
   "metadata": {},
   "outputs": [
    {
     "name": "stdout",
     "output_type": "stream",
     "text": [
      "gender : ['Female' 'Male']\n",
      "SeniorCitizen : [0 1]\n",
      "Partner : ['Yes' 'No']\n",
      "Dependents : ['No' 'Yes']\n",
      "tenure : [ 1 34  2 45  8 22 10 28 62 13 16 58 49 25 69 52 71 21 12 30 47 72 17 27\n",
      "  5 46 11 70 63 43 15 60 18 66  9  3 31 50 64 56  7 42 35 48 29 65 38 68\n",
      " 32 55 37 36 41  6  4 33 67 23 57 61 14 20 53 40 59 24 44 19 54 51 26 39]\n",
      "PhoneService : ['No' 'Yes']\n",
      "MultipleLines : ['No' 'Yes']\n",
      "InternetService : ['DSL' 'Fiber optic' 'No']\n",
      "OnlineSecurity : ['No' 'Yes']\n",
      "OnlineBackup : ['Yes' 'No']\n",
      "DeviceProtection : ['No' 'Yes']\n",
      "TechSupport : ['No' 'Yes']\n",
      "StreamingTV : ['No' 'Yes']\n",
      "StreamingMovies : ['No' 'Yes']\n",
      "Contract : ['Month-to-month' 'One year' 'Two year']\n",
      "PaperlessBilling : ['Yes' 'No']\n",
      "PaymentMethod : ['Electronic check' 'Mailed check' 'Bank transfer (automatic)'\n",
      " 'Credit card (automatic)']\n",
      "MonthlyCharges : [29.85 56.95 53.85 ... 63.1  44.2  78.7 ]\n",
      "TotalCharges : [  29.85 1889.5   108.15 ...  346.45  306.6  6844.5 ]\n",
      "Churn : ['No' 'Yes']\n"
     ]
    }
   ],
   "source": [
    "unique_col_value(data)"
   ]
  },
  {
   "cell_type": "code",
   "execution_count": 20,
   "metadata": {},
   "outputs": [
    {
     "name": "stdout",
     "output_type": "stream",
     "text": [
      "['gender', 'SeniorCitizen', 'Partner', 'Dependents', 'tenure', 'PhoneService', 'MultipleLines', 'InternetService', 'OnlineSecurity', 'OnlineBackup', 'DeviceProtection', 'TechSupport', 'StreamingTV', 'StreamingMovies', 'Contract', 'PaperlessBilling', 'PaymentMethod', 'MonthlyCharges', 'TotalCharges', 'Churn']\n"
     ]
    }
   ],
   "source": [
    "col = print(data.columns.to_list())\n",
    "col"
   ]
  },
  {
   "cell_type": "code",
   "execution_count": 21,
   "metadata": {},
   "outputs": [],
   "source": [
    "# replacing yes with 1 and no with 0 for all columns who is having yes and no.\n",
    "col_yes_no = ['Partner', 'Dependents', 'PhoneService', 'MultipleLines', 'OnlineSecurity', 'OnlineBackup', \n",
    "              'DeviceProtection', 'TechSupport', 'StreamingTV', 'StreamingMovies', 'PaperlessBilling', 'Churn']\n",
    "\n",
    "for column in col_yes_no:\n",
    "    data[column].replace({'Yes' : 1, 'No' : 0}, inplace = True)"
   ]
  },
  {
   "cell_type": "code",
   "execution_count": 22,
   "metadata": {},
   "outputs": [
    {
     "name": "stdout",
     "output_type": "stream",
     "text": [
      "gender : ['Female' 'Male']\n",
      "SeniorCitizen : [0 1]\n",
      "Partner : [1 0]\n",
      "Dependents : [0 1]\n",
      "tenure : [ 1 34  2 45  8 22 10 28 62 13 16 58 49 25 69 52 71 21 12 30 47 72 17 27\n",
      "  5 46 11 70 63 43 15 60 18 66  9  3 31 50 64 56  7 42 35 48 29 65 38 68\n",
      " 32 55 37 36 41  6  4 33 67 23 57 61 14 20 53 40 59 24 44 19 54 51 26 39]\n",
      "PhoneService : [0 1]\n",
      "MultipleLines : [0 1]\n",
      "InternetService : ['DSL' 'Fiber optic' 'No']\n",
      "OnlineSecurity : [0 1]\n",
      "OnlineBackup : [1 0]\n",
      "DeviceProtection : [0 1]\n",
      "TechSupport : [0 1]\n",
      "StreamingTV : [0 1]\n",
      "StreamingMovies : [0 1]\n",
      "Contract : ['Month-to-month' 'One year' 'Two year']\n",
      "PaperlessBilling : [1 0]\n",
      "PaymentMethod : ['Electronic check' 'Mailed check' 'Bank transfer (automatic)'\n",
      " 'Credit card (automatic)']\n",
      "MonthlyCharges : [29.85 56.95 53.85 ... 63.1  44.2  78.7 ]\n",
      "TotalCharges : [  29.85 1889.5   108.15 ...  346.45  306.6  6844.5 ]\n",
      "Churn : [0 1]\n"
     ]
    }
   ],
   "source": [
    "unique_col_value(data)"
   ]
  },
  {
   "cell_type": "code",
   "execution_count": 23,
   "metadata": {},
   "outputs": [],
   "source": [
    "# Let's do for the gender column\n",
    "data['gender'].replace({'Female':1, 'Male':0}, inplace=True)"
   ]
  },
  {
   "cell_type": "code",
   "execution_count": 24,
   "metadata": {},
   "outputs": [
    {
     "data": {
      "text/plain": [
       "array([1, 0], dtype=int64)"
      ]
     },
     "execution_count": 24,
     "metadata": {},
     "output_type": "execute_result"
    }
   ],
   "source": [
    "data['gender'].unique()"
   ]
  },
  {
   "cell_type": "code",
   "execution_count": 25,
   "metadata": {},
   "outputs": [
    {
     "data": {
      "text/plain": [
       "Index(['gender', 'SeniorCitizen', 'Partner', 'Dependents', 'tenure',\n",
       "       'PhoneService', 'MultipleLines', 'OnlineSecurity', 'OnlineBackup',\n",
       "       'DeviceProtection', 'TechSupport', 'StreamingTV', 'StreamingMovies',\n",
       "       'PaperlessBilling', 'MonthlyCharges', 'TotalCharges', 'Churn',\n",
       "       'InternetService_Fiber optic', 'InternetService_No',\n",
       "       'Contract_One year', 'Contract_Two year',\n",
       "       'PaymentMethod_Credit card (automatic)',\n",
       "       'PaymentMethod_Electronic check', 'PaymentMethod_Mailed check'],\n",
       "      dtype='object')"
      ]
     },
     "execution_count": 25,
     "metadata": {},
     "output_type": "execute_result"
    }
   ],
   "source": [
    "# Converting InternetService , Contract , PaymentMethod into numeric using pd.get_dummies\n",
    "\n",
    "data1 = pd.get_dummies(data=data, columns=['InternetService', 'Contract', 'PaymentMethod'], drop_first=True)\n",
    "data1.columns"
   ]
  },
  {
   "cell_type": "code",
   "execution_count": 26,
   "metadata": {},
   "outputs": [
    {
     "data": {
      "text/html": [
       "<div>\n",
       "<style scoped>\n",
       "    .dataframe tbody tr th:only-of-type {\n",
       "        vertical-align: middle;\n",
       "    }\n",
       "\n",
       "    .dataframe tbody tr th {\n",
       "        vertical-align: top;\n",
       "    }\n",
       "\n",
       "    .dataframe thead th {\n",
       "        text-align: right;\n",
       "    }\n",
       "</style>\n",
       "<table border=\"1\" class=\"dataframe\">\n",
       "  <thead>\n",
       "    <tr style=\"text-align: right;\">\n",
       "      <th></th>\n",
       "      <th>gender</th>\n",
       "      <th>SeniorCitizen</th>\n",
       "      <th>Partner</th>\n",
       "      <th>Dependents</th>\n",
       "      <th>tenure</th>\n",
       "      <th>PhoneService</th>\n",
       "      <th>MultipleLines</th>\n",
       "      <th>OnlineSecurity</th>\n",
       "      <th>OnlineBackup</th>\n",
       "      <th>DeviceProtection</th>\n",
       "      <th>TechSupport</th>\n",
       "      <th>StreamingTV</th>\n",
       "      <th>StreamingMovies</th>\n",
       "      <th>PaperlessBilling</th>\n",
       "      <th>MonthlyCharges</th>\n",
       "      <th>TotalCharges</th>\n",
       "      <th>Churn</th>\n",
       "      <th>InternetService_Fiber optic</th>\n",
       "      <th>InternetService_No</th>\n",
       "      <th>Contract_One year</th>\n",
       "      <th>Contract_Two year</th>\n",
       "      <th>PaymentMethod_Credit card (automatic)</th>\n",
       "      <th>PaymentMethod_Electronic check</th>\n",
       "      <th>PaymentMethod_Mailed check</th>\n",
       "    </tr>\n",
       "  </thead>\n",
       "  <tbody>\n",
       "    <tr>\n",
       "      <th>0</th>\n",
       "      <td>1</td>\n",
       "      <td>0</td>\n",
       "      <td>1</td>\n",
       "      <td>0</td>\n",
       "      <td>1</td>\n",
       "      <td>0</td>\n",
       "      <td>0</td>\n",
       "      <td>0</td>\n",
       "      <td>1</td>\n",
       "      <td>0</td>\n",
       "      <td>0</td>\n",
       "      <td>0</td>\n",
       "      <td>0</td>\n",
       "      <td>1</td>\n",
       "      <td>29.85</td>\n",
       "      <td>29.85</td>\n",
       "      <td>0</td>\n",
       "      <td>0</td>\n",
       "      <td>0</td>\n",
       "      <td>0</td>\n",
       "      <td>0</td>\n",
       "      <td>0</td>\n",
       "      <td>1</td>\n",
       "      <td>0</td>\n",
       "    </tr>\n",
       "    <tr>\n",
       "      <th>1</th>\n",
       "      <td>0</td>\n",
       "      <td>0</td>\n",
       "      <td>0</td>\n",
       "      <td>0</td>\n",
       "      <td>34</td>\n",
       "      <td>1</td>\n",
       "      <td>0</td>\n",
       "      <td>1</td>\n",
       "      <td>0</td>\n",
       "      <td>1</td>\n",
       "      <td>0</td>\n",
       "      <td>0</td>\n",
       "      <td>0</td>\n",
       "      <td>0</td>\n",
       "      <td>56.95</td>\n",
       "      <td>1889.50</td>\n",
       "      <td>0</td>\n",
       "      <td>0</td>\n",
       "      <td>0</td>\n",
       "      <td>1</td>\n",
       "      <td>0</td>\n",
       "      <td>0</td>\n",
       "      <td>0</td>\n",
       "      <td>1</td>\n",
       "    </tr>\n",
       "    <tr>\n",
       "      <th>2</th>\n",
       "      <td>0</td>\n",
       "      <td>0</td>\n",
       "      <td>0</td>\n",
       "      <td>0</td>\n",
       "      <td>2</td>\n",
       "      <td>1</td>\n",
       "      <td>0</td>\n",
       "      <td>1</td>\n",
       "      <td>1</td>\n",
       "      <td>0</td>\n",
       "      <td>0</td>\n",
       "      <td>0</td>\n",
       "      <td>0</td>\n",
       "      <td>1</td>\n",
       "      <td>53.85</td>\n",
       "      <td>108.15</td>\n",
       "      <td>1</td>\n",
       "      <td>0</td>\n",
       "      <td>0</td>\n",
       "      <td>0</td>\n",
       "      <td>0</td>\n",
       "      <td>0</td>\n",
       "      <td>0</td>\n",
       "      <td>1</td>\n",
       "    </tr>\n",
       "    <tr>\n",
       "      <th>3</th>\n",
       "      <td>0</td>\n",
       "      <td>0</td>\n",
       "      <td>0</td>\n",
       "      <td>0</td>\n",
       "      <td>45</td>\n",
       "      <td>0</td>\n",
       "      <td>0</td>\n",
       "      <td>1</td>\n",
       "      <td>0</td>\n",
       "      <td>1</td>\n",
       "      <td>1</td>\n",
       "      <td>0</td>\n",
       "      <td>0</td>\n",
       "      <td>0</td>\n",
       "      <td>42.30</td>\n",
       "      <td>1840.75</td>\n",
       "      <td>0</td>\n",
       "      <td>0</td>\n",
       "      <td>0</td>\n",
       "      <td>1</td>\n",
       "      <td>0</td>\n",
       "      <td>0</td>\n",
       "      <td>0</td>\n",
       "      <td>0</td>\n",
       "    </tr>\n",
       "    <tr>\n",
       "      <th>4</th>\n",
       "      <td>1</td>\n",
       "      <td>0</td>\n",
       "      <td>0</td>\n",
       "      <td>0</td>\n",
       "      <td>2</td>\n",
       "      <td>1</td>\n",
       "      <td>0</td>\n",
       "      <td>0</td>\n",
       "      <td>0</td>\n",
       "      <td>0</td>\n",
       "      <td>0</td>\n",
       "      <td>0</td>\n",
       "      <td>0</td>\n",
       "      <td>1</td>\n",
       "      <td>70.70</td>\n",
       "      <td>151.65</td>\n",
       "      <td>1</td>\n",
       "      <td>1</td>\n",
       "      <td>0</td>\n",
       "      <td>0</td>\n",
       "      <td>0</td>\n",
       "      <td>0</td>\n",
       "      <td>1</td>\n",
       "      <td>0</td>\n",
       "    </tr>\n",
       "  </tbody>\n",
       "</table>\n",
       "</div>"
      ],
      "text/plain": [
       "   gender  SeniorCitizen  Partner  Dependents  tenure  PhoneService  \\\n",
       "0       1              0        1           0       1             0   \n",
       "1       0              0        0           0      34             1   \n",
       "2       0              0        0           0       2             1   \n",
       "3       0              0        0           0      45             0   \n",
       "4       1              0        0           0       2             1   \n",
       "\n",
       "   MultipleLines  OnlineSecurity  OnlineBackup  DeviceProtection  TechSupport  \\\n",
       "0              0               0             1                 0            0   \n",
       "1              0               1             0                 1            0   \n",
       "2              0               1             1                 0            0   \n",
       "3              0               1             0                 1            1   \n",
       "4              0               0             0                 0            0   \n",
       "\n",
       "   StreamingTV  StreamingMovies  PaperlessBilling  MonthlyCharges  \\\n",
       "0            0                0                 1           29.85   \n",
       "1            0                0                 0           56.95   \n",
       "2            0                0                 1           53.85   \n",
       "3            0                0                 0           42.30   \n",
       "4            0                0                 1           70.70   \n",
       "\n",
       "   TotalCharges  Churn  InternetService_Fiber optic  InternetService_No  \\\n",
       "0         29.85      0                            0                   0   \n",
       "1       1889.50      0                            0                   0   \n",
       "2        108.15      1                            0                   0   \n",
       "3       1840.75      0                            0                   0   \n",
       "4        151.65      1                            1                   0   \n",
       "\n",
       "   Contract_One year  Contract_Two year  \\\n",
       "0                  0                  0   \n",
       "1                  1                  0   \n",
       "2                  0                  0   \n",
       "3                  1                  0   \n",
       "4                  0                  0   \n",
       "\n",
       "   PaymentMethod_Credit card (automatic)  PaymentMethod_Electronic check  \\\n",
       "0                                      0                               1   \n",
       "1                                      0                               0   \n",
       "2                                      0                               0   \n",
       "3                                      0                               0   \n",
       "4                                      0                               1   \n",
       "\n",
       "   PaymentMethod_Mailed check  \n",
       "0                           0  \n",
       "1                           1  \n",
       "2                           1  \n",
       "3                           0  \n",
       "4                           0  "
      ]
     },
     "execution_count": 26,
     "metadata": {},
     "output_type": "execute_result"
    }
   ],
   "source": [
    "data1.head()"
   ]
  },
  {
   "cell_type": "code",
   "execution_count": 27,
   "metadata": {},
   "outputs": [
    {
     "data": {
      "text/plain": [
       "(7032, 24)"
      ]
     },
     "execution_count": 27,
     "metadata": {},
     "output_type": "execute_result"
    }
   ],
   "source": [
    "data1.shape"
   ]
  },
  {
   "cell_type": "code",
   "execution_count": 32,
   "metadata": {},
   "outputs": [],
   "source": [
    "col_to_scale = ['tenure', 'MonthlyCharges', 'TotalCharges']\n",
    "\n",
    "from sklearn.preprocessing import MinMaxScaler\n",
    "scaler = MinMaxScaler()\n",
    "\n",
    "data1[col_to_scale] = scaler.fit_transform(data1[col_to_scale])\n",
    "    "
   ]
  },
  {
   "cell_type": "code",
   "execution_count": 33,
   "metadata": {},
   "outputs": [
    {
     "data": {
      "text/html": [
       "<div>\n",
       "<style scoped>\n",
       "    .dataframe tbody tr th:only-of-type {\n",
       "        vertical-align: middle;\n",
       "    }\n",
       "\n",
       "    .dataframe tbody tr th {\n",
       "        vertical-align: top;\n",
       "    }\n",
       "\n",
       "    .dataframe thead th {\n",
       "        text-align: right;\n",
       "    }\n",
       "</style>\n",
       "<table border=\"1\" class=\"dataframe\">\n",
       "  <thead>\n",
       "    <tr style=\"text-align: right;\">\n",
       "      <th></th>\n",
       "      <th>gender</th>\n",
       "      <th>SeniorCitizen</th>\n",
       "      <th>Partner</th>\n",
       "      <th>Dependents</th>\n",
       "      <th>tenure</th>\n",
       "      <th>PhoneService</th>\n",
       "      <th>MultipleLines</th>\n",
       "      <th>OnlineSecurity</th>\n",
       "      <th>OnlineBackup</th>\n",
       "      <th>DeviceProtection</th>\n",
       "      <th>TechSupport</th>\n",
       "      <th>StreamingTV</th>\n",
       "      <th>StreamingMovies</th>\n",
       "      <th>PaperlessBilling</th>\n",
       "      <th>MonthlyCharges</th>\n",
       "      <th>TotalCharges</th>\n",
       "      <th>Churn</th>\n",
       "      <th>InternetService_Fiber optic</th>\n",
       "      <th>InternetService_No</th>\n",
       "      <th>Contract_One year</th>\n",
       "      <th>Contract_Two year</th>\n",
       "      <th>PaymentMethod_Credit card (automatic)</th>\n",
       "      <th>PaymentMethod_Electronic check</th>\n",
       "      <th>PaymentMethod_Mailed check</th>\n",
       "    </tr>\n",
       "  </thead>\n",
       "  <tbody>\n",
       "    <tr>\n",
       "      <th>0</th>\n",
       "      <td>1</td>\n",
       "      <td>0</td>\n",
       "      <td>1</td>\n",
       "      <td>0</td>\n",
       "      <td>0.000000</td>\n",
       "      <td>0</td>\n",
       "      <td>0</td>\n",
       "      <td>0</td>\n",
       "      <td>1</td>\n",
       "      <td>0</td>\n",
       "      <td>0</td>\n",
       "      <td>0</td>\n",
       "      <td>0</td>\n",
       "      <td>1</td>\n",
       "      <td>0.115423</td>\n",
       "      <td>0.001275</td>\n",
       "      <td>0</td>\n",
       "      <td>0</td>\n",
       "      <td>0</td>\n",
       "      <td>0</td>\n",
       "      <td>0</td>\n",
       "      <td>0</td>\n",
       "      <td>1</td>\n",
       "      <td>0</td>\n",
       "    </tr>\n",
       "    <tr>\n",
       "      <th>1</th>\n",
       "      <td>0</td>\n",
       "      <td>0</td>\n",
       "      <td>0</td>\n",
       "      <td>0</td>\n",
       "      <td>0.464789</td>\n",
       "      <td>1</td>\n",
       "      <td>0</td>\n",
       "      <td>1</td>\n",
       "      <td>0</td>\n",
       "      <td>1</td>\n",
       "      <td>0</td>\n",
       "      <td>0</td>\n",
       "      <td>0</td>\n",
       "      <td>0</td>\n",
       "      <td>0.385075</td>\n",
       "      <td>0.215867</td>\n",
       "      <td>0</td>\n",
       "      <td>0</td>\n",
       "      <td>0</td>\n",
       "      <td>1</td>\n",
       "      <td>0</td>\n",
       "      <td>0</td>\n",
       "      <td>0</td>\n",
       "      <td>1</td>\n",
       "    </tr>\n",
       "    <tr>\n",
       "      <th>2</th>\n",
       "      <td>0</td>\n",
       "      <td>0</td>\n",
       "      <td>0</td>\n",
       "      <td>0</td>\n",
       "      <td>0.014085</td>\n",
       "      <td>1</td>\n",
       "      <td>0</td>\n",
       "      <td>1</td>\n",
       "      <td>1</td>\n",
       "      <td>0</td>\n",
       "      <td>0</td>\n",
       "      <td>0</td>\n",
       "      <td>0</td>\n",
       "      <td>1</td>\n",
       "      <td>0.354229</td>\n",
       "      <td>0.010310</td>\n",
       "      <td>1</td>\n",
       "      <td>0</td>\n",
       "      <td>0</td>\n",
       "      <td>0</td>\n",
       "      <td>0</td>\n",
       "      <td>0</td>\n",
       "      <td>0</td>\n",
       "      <td>1</td>\n",
       "    </tr>\n",
       "    <tr>\n",
       "      <th>3</th>\n",
       "      <td>0</td>\n",
       "      <td>0</td>\n",
       "      <td>0</td>\n",
       "      <td>0</td>\n",
       "      <td>0.619718</td>\n",
       "      <td>0</td>\n",
       "      <td>0</td>\n",
       "      <td>1</td>\n",
       "      <td>0</td>\n",
       "      <td>1</td>\n",
       "      <td>1</td>\n",
       "      <td>0</td>\n",
       "      <td>0</td>\n",
       "      <td>0</td>\n",
       "      <td>0.239303</td>\n",
       "      <td>0.210241</td>\n",
       "      <td>0</td>\n",
       "      <td>0</td>\n",
       "      <td>0</td>\n",
       "      <td>1</td>\n",
       "      <td>0</td>\n",
       "      <td>0</td>\n",
       "      <td>0</td>\n",
       "      <td>0</td>\n",
       "    </tr>\n",
       "    <tr>\n",
       "      <th>4</th>\n",
       "      <td>1</td>\n",
       "      <td>0</td>\n",
       "      <td>0</td>\n",
       "      <td>0</td>\n",
       "      <td>0.014085</td>\n",
       "      <td>1</td>\n",
       "      <td>0</td>\n",
       "      <td>0</td>\n",
       "      <td>0</td>\n",
       "      <td>0</td>\n",
       "      <td>0</td>\n",
       "      <td>0</td>\n",
       "      <td>0</td>\n",
       "      <td>1</td>\n",
       "      <td>0.521891</td>\n",
       "      <td>0.015330</td>\n",
       "      <td>1</td>\n",
       "      <td>1</td>\n",
       "      <td>0</td>\n",
       "      <td>0</td>\n",
       "      <td>0</td>\n",
       "      <td>0</td>\n",
       "      <td>1</td>\n",
       "      <td>0</td>\n",
       "    </tr>\n",
       "  </tbody>\n",
       "</table>\n",
       "</div>"
      ],
      "text/plain": [
       "   gender  SeniorCitizen  Partner  Dependents    tenure  PhoneService  \\\n",
       "0       1              0        1           0  0.000000             0   \n",
       "1       0              0        0           0  0.464789             1   \n",
       "2       0              0        0           0  0.014085             1   \n",
       "3       0              0        0           0  0.619718             0   \n",
       "4       1              0        0           0  0.014085             1   \n",
       "\n",
       "   MultipleLines  OnlineSecurity  OnlineBackup  DeviceProtection  TechSupport  \\\n",
       "0              0               0             1                 0            0   \n",
       "1              0               1             0                 1            0   \n",
       "2              0               1             1                 0            0   \n",
       "3              0               1             0                 1            1   \n",
       "4              0               0             0                 0            0   \n",
       "\n",
       "   StreamingTV  StreamingMovies  PaperlessBilling  MonthlyCharges  \\\n",
       "0            0                0                 1        0.115423   \n",
       "1            0                0                 0        0.385075   \n",
       "2            0                0                 1        0.354229   \n",
       "3            0                0                 0        0.239303   \n",
       "4            0                0                 1        0.521891   \n",
       "\n",
       "   TotalCharges  Churn  InternetService_Fiber optic  InternetService_No  \\\n",
       "0      0.001275      0                            0                   0   \n",
       "1      0.215867      0                            0                   0   \n",
       "2      0.010310      1                            0                   0   \n",
       "3      0.210241      0                            0                   0   \n",
       "4      0.015330      1                            1                   0   \n",
       "\n",
       "   Contract_One year  Contract_Two year  \\\n",
       "0                  0                  0   \n",
       "1                  1                  0   \n",
       "2                  0                  0   \n",
       "3                  1                  0   \n",
       "4                  0                  0   \n",
       "\n",
       "   PaymentMethod_Credit card (automatic)  PaymentMethod_Electronic check  \\\n",
       "0                                      0                               1   \n",
       "1                                      0                               0   \n",
       "2                                      0                               0   \n",
       "3                                      0                               0   \n",
       "4                                      0                               1   \n",
       "\n",
       "   PaymentMethod_Mailed check  \n",
       "0                           0  \n",
       "1                           1  \n",
       "2                           1  \n",
       "3                           0  \n",
       "4                           0  "
      ]
     },
     "execution_count": 33,
     "metadata": {},
     "output_type": "execute_result"
    }
   ],
   "source": [
    "data1.head()"
   ]
  },
  {
   "cell_type": "code",
   "execution_count": 34,
   "metadata": {},
   "outputs": [
    {
     "name": "stdout",
     "output_type": "stream",
     "text": [
      "gender : [1 0]\n",
      "SeniorCitizen : [0 1]\n",
      "Partner : [1 0]\n",
      "Dependents : [0 1]\n",
      "tenure : [0.         0.46478873 0.01408451 0.61971831 0.09859155 0.29577465\n",
      " 0.12676056 0.38028169 0.85915493 0.16901408 0.21126761 0.8028169\n",
      " 0.67605634 0.33802817 0.95774648 0.71830986 0.98591549 0.28169014\n",
      " 0.15492958 0.4084507  0.64788732 1.         0.22535211 0.36619718\n",
      " 0.05633803 0.63380282 0.14084507 0.97183099 0.87323944 0.5915493\n",
      " 0.1971831  0.83098592 0.23943662 0.91549296 0.11267606 0.02816901\n",
      " 0.42253521 0.69014085 0.88732394 0.77464789 0.08450704 0.57746479\n",
      " 0.47887324 0.66197183 0.3943662  0.90140845 0.52112676 0.94366197\n",
      " 0.43661972 0.76056338 0.50704225 0.49295775 0.56338028 0.07042254\n",
      " 0.04225352 0.45070423 0.92957746 0.30985915 0.78873239 0.84507042\n",
      " 0.18309859 0.26760563 0.73239437 0.54929577 0.81690141 0.32394366\n",
      " 0.6056338  0.25352113 0.74647887 0.70422535 0.35211268 0.53521127]\n",
      "PhoneService : [0 1]\n",
      "MultipleLines : [0 1]\n",
      "OnlineSecurity : [0 1]\n",
      "OnlineBackup : [1 0]\n",
      "DeviceProtection : [0 1]\n",
      "TechSupport : [0 1]\n",
      "StreamingTV : [0 1]\n",
      "StreamingMovies : [0 1]\n",
      "PaperlessBilling : [1 0]\n",
      "MonthlyCharges : [0.11542289 0.38507463 0.35422886 ... 0.44626866 0.25820896 0.60149254]\n",
      "TotalCharges : [0.0012751  0.21586661 0.01031041 ... 0.03780868 0.03321025 0.78764136]\n",
      "Churn : [0 1]\n",
      "InternetService_Fiber optic : [0 1]\n",
      "InternetService_No : [0 1]\n",
      "Contract_One year : [0 1]\n",
      "Contract_Two year : [0 1]\n",
      "PaymentMethod_Credit card (automatic) : [0 1]\n",
      "PaymentMethod_Electronic check : [1 0]\n",
      "PaymentMethod_Mailed check : [0 1]\n"
     ]
    }
   ],
   "source": [
    "unique_col_value(data1)"
   ]
  },
  {
   "cell_type": "markdown",
   "metadata": {},
   "source": [
    "From above we can say that all the columns are in one range between 0 and 1"
   ]
  },
  {
   "cell_type": "code",
   "execution_count": 35,
   "metadata": {},
   "outputs": [],
   "source": [
    "#Splitting dataset into dependent and independent variable\n",
    "\n",
    "X = data1.drop(['Churn'], axis = 1)\n",
    "Y = data1[\"Churn\"]"
   ]
  },
  {
   "cell_type": "code",
   "execution_count": 36,
   "metadata": {},
   "outputs": [
    {
     "data": {
      "text/plain": [
       "(5274, 23)"
      ]
     },
     "execution_count": 36,
     "metadata": {},
     "output_type": "execute_result"
    },
    {
     "data": {
      "text/plain": [
       "(1758, 23)"
      ]
     },
     "execution_count": 36,
     "metadata": {},
     "output_type": "execute_result"
    },
    {
     "data": {
      "text/plain": [
       "(5274,)"
      ]
     },
     "execution_count": 36,
     "metadata": {},
     "output_type": "execute_result"
    },
    {
     "data": {
      "text/plain": [
       "(1758,)"
      ]
     },
     "execution_count": 36,
     "metadata": {},
     "output_type": "execute_result"
    }
   ],
   "source": [
    "# Train Test Split\n",
    "from sklearn.model_selection import train_test_split\n",
    "x_train, x_test, y_train, y_test = train_test_split(X , Y, test_size = 0.25, random_state = 42)\n",
    "x_train.shape\n",
    "x_test.shape\n",
    "y_train.shape\n",
    "y_test.shape"
   ]
  },
  {
   "cell_type": "code",
   "execution_count": 38,
   "metadata": {},
   "outputs": [],
   "source": [
    "import tensorflow\n",
    "from tensorflow import keras"
   ]
  },
  {
   "cell_type": "code",
   "execution_count": 39,
   "metadata": {},
   "outputs": [
    {
     "name": "stdout",
     "output_type": "stream",
     "text": [
      "Model: \"sequential\"\n",
      "_________________________________________________________________\n",
      "Layer (type)                 Output Shape              Param #   \n",
      "=================================================================\n",
      "dense (Dense)                (None, 20)                480       \n",
      "_________________________________________________________________\n",
      "dense_1 (Dense)              (None, 15)                315       \n",
      "_________________________________________________________________\n",
      "dense_2 (Dense)              (None, 1)                 16        \n",
      "=================================================================\n",
      "Total params: 811\n",
      "Trainable params: 811\n",
      "Non-trainable params: 0\n",
      "_________________________________________________________________\n"
     ]
    }
   ],
   "source": [
    "model = keras.Sequential([\n",
    "    keras.layers.Dense(units = 20, input_dim = 23, kernel_initializer = 'he_uniform', activation = 'relu'),\n",
    "    keras.layers.Dense(units = 15, kernel_initializer = 'he_uniform', activation = 'relu'),\n",
    "    keras.layers.Dense(units = 1, kernel_initializer = 'glorot_uniform', activation = 'sigmoid')\n",
    "])\n",
    "\n",
    "model.compile(optimizer = 'adam', loss = 'binary_crossentropy', metrics = ['accuracy'])\n",
    "\n",
    "model.summary()"
   ]
  },
  {
   "cell_type": "code",
   "execution_count": 42,
   "metadata": {},
   "outputs": [
    {
     "name": "stdout",
     "output_type": "stream",
     "text": [
      "Epoch 1/100\n",
      "370/370 [==============================] - 1s 2ms/step - loss: 0.3717 - accuracy: 0.8277 - val_loss: 0.4195 - val_accuracy: 0.8117\n",
      "Epoch 2/100\n",
      "370/370 [==============================] - 1s 3ms/step - loss: 0.3729 - accuracy: 0.8225 - val_loss: 0.4176 - val_accuracy: 0.8105\n",
      "Epoch 3/100\n",
      "370/370 [==============================] - 1s 2ms/step - loss: 0.3707 - accuracy: 0.8255 - val_loss: 0.4190 - val_accuracy: 0.8117\n",
      "Epoch 4/100\n",
      "370/370 [==============================] - 1s 2ms/step - loss: 0.3694 - accuracy: 0.8242 - val_loss: 0.4222 - val_accuracy: 0.8130\n",
      "Epoch 5/100\n",
      "370/370 [==============================] - 1s 2ms/step - loss: 0.3698 - accuracy: 0.8288 - val_loss: 0.4266 - val_accuracy: 0.8117\n",
      "Epoch 6/100\n",
      "370/370 [==============================] - 1s 2ms/step - loss: 0.3696 - accuracy: 0.8271 - val_loss: 0.4260 - val_accuracy: 0.8086\n",
      "Epoch 7/100\n",
      "370/370 [==============================] - 1s 3ms/step - loss: 0.3690 - accuracy: 0.8242 - val_loss: 0.4232 - val_accuracy: 0.8143\n",
      "Epoch 8/100\n",
      "370/370 [==============================] - 1s 4ms/step - loss: 0.3658 - accuracy: 0.8271 - val_loss: 0.4311 - val_accuracy: 0.8111\n",
      "Epoch 9/100\n",
      "370/370 [==============================] - 1s 3ms/step - loss: 0.3671 - accuracy: 0.8280 - val_loss: 0.4263 - val_accuracy: 0.8136\n",
      "Epoch 10/100\n",
      "370/370 [==============================] - 1s 3ms/step - loss: 0.3666 - accuracy: 0.8271 - val_loss: 0.4261 - val_accuracy: 0.8136\n",
      "Epoch 11/100\n",
      "370/370 [==============================] - 1s 2ms/step - loss: 0.3640 - accuracy: 0.8326 - val_loss: 0.4291 - val_accuracy: 0.8073\n",
      "Epoch 12/100\n",
      "370/370 [==============================] - 1s 2ms/step - loss: 0.3640 - accuracy: 0.8301 - val_loss: 0.4248 - val_accuracy: 0.8086\n",
      "Epoch 13/100\n",
      "370/370 [==============================] - 1s 2ms/step - loss: 0.3617 - accuracy: 0.8285 - val_loss: 0.4282 - val_accuracy: 0.8035\n",
      "Epoch 14/100\n",
      "370/370 [==============================] - 1s 2ms/step - loss: 0.3616 - accuracy: 0.8318 - val_loss: 0.4293 - val_accuracy: 0.8067\n",
      "Epoch 15/100\n",
      "370/370 [==============================] - 1s 3ms/step - loss: 0.3613 - accuracy: 0.8326 - val_loss: 0.4292 - val_accuracy: 0.8067\n",
      "Epoch 16/100\n",
      "370/370 [==============================] - 1s 2ms/step - loss: 0.3606 - accuracy: 0.8345 - val_loss: 0.4328 - val_accuracy: 0.8136\n",
      "Epoch 17/100\n",
      "370/370 [==============================] - 1s 2ms/step - loss: 0.3601 - accuracy: 0.8331 - val_loss: 0.4293 - val_accuracy: 0.8073\n",
      "Epoch 18/100\n",
      "370/370 [==============================] - 1s 2ms/step - loss: 0.3587 - accuracy: 0.8347 - val_loss: 0.4394 - val_accuracy: 0.8010\n",
      "Epoch 19/100\n",
      "370/370 [==============================] - 1s 2ms/step - loss: 0.3569 - accuracy: 0.8323 - val_loss: 0.4502 - val_accuracy: 0.7966\n",
      "Epoch 20/100\n",
      "370/370 [==============================] - 1s 2ms/step - loss: 0.3579 - accuracy: 0.8336 - val_loss: 0.4331 - val_accuracy: 0.8035\n",
      "Epoch 21/100\n",
      "370/370 [==============================] - 1s 2ms/step - loss: 0.3568 - accuracy: 0.8328 - val_loss: 0.4387 - val_accuracy: 0.8048\n",
      "Epoch 22/100\n",
      "370/370 [==============================] - 1s 2ms/step - loss: 0.3562 - accuracy: 0.8328 - val_loss: 0.4362 - val_accuracy: 0.8035\n",
      "Epoch 23/100\n",
      "370/370 [==============================] - 1s 3ms/step - loss: 0.3550 - accuracy: 0.8374 - val_loss: 0.4330 - val_accuracy: 0.8067\n",
      "Epoch 24/100\n",
      "370/370 [==============================] - 1s 2ms/step - loss: 0.3535 - accuracy: 0.8361 - val_loss: 0.4364 - val_accuracy: 0.8086\n",
      "Epoch 25/100\n",
      "370/370 [==============================] - 1s 2ms/step - loss: 0.3525 - accuracy: 0.8396 - val_loss: 0.4375 - val_accuracy: 0.8016\n",
      "Epoch 26/100\n",
      "370/370 [==============================] - 1s 3ms/step - loss: 0.3542 - accuracy: 0.8366 - val_loss: 0.4422 - val_accuracy: 0.8004\n",
      "Epoch 27/100\n",
      "370/370 [==============================] - 1s 2ms/step - loss: 0.3527 - accuracy: 0.8404 - val_loss: 0.4403 - val_accuracy: 0.8035\n",
      "Epoch 28/100\n",
      "370/370 [==============================] - 1s 2ms/step - loss: 0.3512 - accuracy: 0.8380 - val_loss: 0.4422 - val_accuracy: 0.8010\n",
      "Epoch 29/100\n",
      "370/370 [==============================] - 1s 2ms/step - loss: 0.3503 - accuracy: 0.8426 - val_loss: 0.4440 - val_accuracy: 0.8067\n",
      "Epoch 30/100\n",
      "370/370 [==============================] - 1s 3ms/step - loss: 0.3522 - accuracy: 0.8385 - val_loss: 0.4465 - val_accuracy: 0.8086\n",
      "Epoch 31/100\n",
      "370/370 [==============================] - 1s 2ms/step - loss: 0.3488 - accuracy: 0.8420 - val_loss: 0.4387 - val_accuracy: 0.8117\n",
      "Epoch 32/100\n",
      "370/370 [==============================] - 1s 2ms/step - loss: 0.3484 - accuracy: 0.8385 - val_loss: 0.4448 - val_accuracy: 0.8073\n",
      "Epoch 33/100\n",
      "370/370 [==============================] - 1s 3ms/step - loss: 0.3476 - accuracy: 0.8423 - val_loss: 0.4461 - val_accuracy: 0.8029\n",
      "Epoch 34/100\n",
      "370/370 [==============================] - 1s 2ms/step - loss: 0.3474 - accuracy: 0.8420 - val_loss: 0.4439 - val_accuracy: 0.8054\n",
      "Epoch 35/100\n",
      "370/370 [==============================] - 1s 2ms/step - loss: 0.3476 - accuracy: 0.8420 - val_loss: 0.4445 - val_accuracy: 0.8035\n",
      "Epoch 36/100\n",
      "370/370 [==============================] - 1s 2ms/step - loss: 0.3470 - accuracy: 0.8426 - val_loss: 0.4488 - val_accuracy: 0.8048\n",
      "Epoch 37/100\n",
      "370/370 [==============================] - 1s 3ms/step - loss: 0.3439 - accuracy: 0.8423 - val_loss: 0.4545 - val_accuracy: 0.8010\n",
      "Epoch 38/100\n",
      "370/370 [==============================] - 1s 2ms/step - loss: 0.3451 - accuracy: 0.8442 - val_loss: 0.4450 - val_accuracy: 0.8054\n",
      "Epoch 39/100\n",
      "370/370 [==============================] - 1s 2ms/step - loss: 0.3446 - accuracy: 0.8439 - val_loss: 0.4499 - val_accuracy: 0.8054\n",
      "Epoch 40/100\n",
      "370/370 [==============================] - 1s 2ms/step - loss: 0.3418 - accuracy: 0.8475 - val_loss: 0.4537 - val_accuracy: 0.8042\n",
      "Epoch 41/100\n",
      "370/370 [==============================] - 1s 2ms/step - loss: 0.3437 - accuracy: 0.8450 - val_loss: 0.4616 - val_accuracy: 0.7960\n",
      "Epoch 42/100\n",
      "370/370 [==============================] - 1s 2ms/step - loss: 0.3417 - accuracy: 0.8456 - val_loss: 0.4516 - val_accuracy: 0.8061\n",
      "Epoch 43/100\n",
      "370/370 [==============================] - 1s 2ms/step - loss: 0.3429 - accuracy: 0.8450 - val_loss: 0.4570 - val_accuracy: 0.7979\n",
      "Epoch 44/100\n",
      "370/370 [==============================] - 1s 2ms/step - loss: 0.3406 - accuracy: 0.8469 - val_loss: 0.4580 - val_accuracy: 0.8016\n",
      "Epoch 45/100\n",
      "370/370 [==============================] - 1s 3ms/step - loss: 0.3395 - accuracy: 0.8464 - val_loss: 0.4537 - val_accuracy: 0.8061\n",
      "Epoch 46/100\n",
      "370/370 [==============================] - 1s 2ms/step - loss: 0.3408 - accuracy: 0.8458 - val_loss: 0.4646 - val_accuracy: 0.8004\n",
      "Epoch 47/100\n",
      "370/370 [==============================] - 1s 2ms/step - loss: 0.3401 - accuracy: 0.8475 - val_loss: 0.4552 - val_accuracy: 0.8054\n",
      "Epoch 48/100\n",
      "370/370 [==============================] - 1s 2ms/step - loss: 0.3380 - accuracy: 0.8494 - val_loss: 0.4615 - val_accuracy: 0.7960\n",
      "Epoch 49/100\n",
      "370/370 [==============================] - 1s 2ms/step - loss: 0.3381 - accuracy: 0.8437 - val_loss: 0.4597 - val_accuracy: 0.7960\n",
      "Epoch 50/100\n",
      "370/370 [==============================] - 1s 2ms/step - loss: 0.3364 - accuracy: 0.8453 - val_loss: 0.4614 - val_accuracy: 0.8042\n",
      "Epoch 51/100\n",
      "370/370 [==============================] - 1s 2ms/step - loss: 0.3372 - accuracy: 0.8475 - val_loss: 0.4608 - val_accuracy: 0.8035\n",
      "Epoch 52/100\n",
      "370/370 [==============================] - 1s 2ms/step - loss: 0.3354 - accuracy: 0.8491 - val_loss: 0.4587 - val_accuracy: 0.8035\n",
      "Epoch 53/100\n",
      "370/370 [==============================] - 1s 2ms/step - loss: 0.3371 - accuracy: 0.8469 - val_loss: 0.4644 - val_accuracy: 0.8010\n",
      "Epoch 54/100\n",
      "370/370 [==============================] - 1s 2ms/step - loss: 0.3352 - accuracy: 0.8491 - val_loss: 0.4610 - val_accuracy: 0.8061\n",
      "Epoch 55/100\n",
      "370/370 [==============================] - 1s 2ms/step - loss: 0.3348 - accuracy: 0.8469 - val_loss: 0.4600 - val_accuracy: 0.8023\n",
      "Epoch 56/100\n",
      "370/370 [==============================] - 1s 2ms/step - loss: 0.3339 - accuracy: 0.8504 - val_loss: 0.4634 - val_accuracy: 0.7997\n",
      "Epoch 57/100\n",
      "370/370 [==============================] - 1s 2ms/step - loss: 0.3325 - accuracy: 0.8526 - val_loss: 0.4673 - val_accuracy: 0.8023\n"
     ]
    },
    {
     "name": "stdout",
     "output_type": "stream",
     "text": [
      "Epoch 58/100\n",
      "370/370 [==============================] - 1s 2ms/step - loss: 0.3339 - accuracy: 0.8480 - val_loss: 0.4715 - val_accuracy: 0.7979\n",
      "Epoch 59/100\n",
      "370/370 [==============================] - 1s 2ms/step - loss: 0.3322 - accuracy: 0.8510 - val_loss: 0.4683 - val_accuracy: 0.8061\n",
      "Epoch 60/100\n",
      "370/370 [==============================] - 1s 2ms/step - loss: 0.3306 - accuracy: 0.8513 - val_loss: 0.4728 - val_accuracy: 0.7985\n",
      "Epoch 61/100\n",
      "370/370 [==============================] - 1s 2ms/step - loss: 0.3308 - accuracy: 0.8526 - val_loss: 0.4696 - val_accuracy: 0.8016\n",
      "Epoch 62/100\n",
      "370/370 [==============================] - 1s 2ms/step - loss: 0.3300 - accuracy: 0.8486 - val_loss: 0.4738 - val_accuracy: 0.7997\n",
      "Epoch 63/100\n",
      "370/370 [==============================] - 1s 2ms/step - loss: 0.3308 - accuracy: 0.8523 - val_loss: 0.4759 - val_accuracy: 0.7966\n",
      "Epoch 64/100\n",
      "370/370 [==============================] - 1s 2ms/step - loss: 0.3289 - accuracy: 0.8510 - val_loss: 0.4827 - val_accuracy: 0.7909\n",
      "Epoch 65/100\n",
      "370/370 [==============================] - 1s 2ms/step - loss: 0.3292 - accuracy: 0.8510 - val_loss: 0.4773 - val_accuracy: 0.8023\n",
      "Epoch 66/100\n",
      "370/370 [==============================] - 1s 2ms/step - loss: 0.3272 - accuracy: 0.8553 - val_loss: 0.4779 - val_accuracy: 0.8042\n",
      "Epoch 67/100\n",
      "370/370 [==============================] - 1s 2ms/step - loss: 0.3297 - accuracy: 0.8464 - val_loss: 0.4839 - val_accuracy: 0.7922\n",
      "Epoch 68/100\n",
      "370/370 [==============================] - 1s 2ms/step - loss: 0.3284 - accuracy: 0.8521 - val_loss: 0.4738 - val_accuracy: 0.8029\n",
      "Epoch 69/100\n",
      "370/370 [==============================] - 1s 3ms/step - loss: 0.3263 - accuracy: 0.8534 - val_loss: 0.4763 - val_accuracy: 0.8004\n",
      "Epoch 70/100\n",
      "370/370 [==============================] - 1s 2ms/step - loss: 0.3262 - accuracy: 0.8494 - val_loss: 0.4819 - val_accuracy: 0.7985\n",
      "Epoch 71/100\n",
      "370/370 [==============================] - 1s 2ms/step - loss: 0.3250 - accuracy: 0.8556 - val_loss: 0.4814 - val_accuracy: 0.8023\n",
      "Epoch 72/100\n",
      "370/370 [==============================] - 1s 2ms/step - loss: 0.3251 - accuracy: 0.8545 - val_loss: 0.4857 - val_accuracy: 0.7934\n",
      "Epoch 73/100\n",
      "370/370 [==============================] - 1s 2ms/step - loss: 0.3247 - accuracy: 0.8521 - val_loss: 0.4812 - val_accuracy: 0.8010\n",
      "Epoch 74/100\n",
      "370/370 [==============================] - 1s 2ms/step - loss: 0.3232 - accuracy: 0.8521 - val_loss: 0.4861 - val_accuracy: 0.7960\n",
      "Epoch 75/100\n",
      "370/370 [==============================] - 1s 2ms/step - loss: 0.3235 - accuracy: 0.8580 - val_loss: 0.5020 - val_accuracy: 0.7814\n",
      "Epoch 76/100\n",
      "370/370 [==============================] - 1s 3ms/step - loss: 0.3225 - accuracy: 0.8523 - val_loss: 0.4919 - val_accuracy: 0.8004\n",
      "Epoch 77/100\n",
      "370/370 [==============================] - 1s 2ms/step - loss: 0.3214 - accuracy: 0.8548 - val_loss: 0.4840 - val_accuracy: 0.7972\n",
      "Epoch 78/100\n",
      "370/370 [==============================] - 1s 2ms/step - loss: 0.3232 - accuracy: 0.8569 - val_loss: 0.4864 - val_accuracy: 0.8035\n",
      "Epoch 79/100\n",
      "370/370 [==============================] - 1s 2ms/step - loss: 0.3221 - accuracy: 0.8553 - val_loss: 0.4950 - val_accuracy: 0.7909\n",
      "Epoch 80/100\n",
      "370/370 [==============================] - 1s 2ms/step - loss: 0.3206 - accuracy: 0.8532 - val_loss: 0.4935 - val_accuracy: 0.7941\n",
      "Epoch 81/100\n",
      "370/370 [==============================] - 1s 2ms/step - loss: 0.3191 - accuracy: 0.8569 - val_loss: 0.4917 - val_accuracy: 0.8029\n",
      "Epoch 82/100\n",
      "370/370 [==============================] - 1s 2ms/step - loss: 0.3216 - accuracy: 0.8540 - val_loss: 0.4951 - val_accuracy: 0.7903\n",
      "Epoch 83/100\n",
      "370/370 [==============================] - 1s 3ms/step - loss: 0.3198 - accuracy: 0.8553 - val_loss: 0.4973 - val_accuracy: 0.7840\n",
      "Epoch 84/100\n",
      "370/370 [==============================] - 1s 3ms/step - loss: 0.3184 - accuracy: 0.8572 - val_loss: 0.4986 - val_accuracy: 0.7934\n",
      "Epoch 85/100\n",
      "370/370 [==============================] - 1s 3ms/step - loss: 0.3211 - accuracy: 0.8548 - val_loss: 0.4917 - val_accuracy: 0.7991\n",
      "Epoch 86/100\n",
      "370/370 [==============================] - 1s 3ms/step - loss: 0.3179 - accuracy: 0.8559 - val_loss: 0.4988 - val_accuracy: 0.8010\n",
      "Epoch 87/100\n",
      "370/370 [==============================] - 1s 3ms/step - loss: 0.3167 - accuracy: 0.8548 - val_loss: 0.5014 - val_accuracy: 0.7972\n",
      "Epoch 88/100\n",
      "370/370 [==============================] - 1s 3ms/step - loss: 0.3171 - accuracy: 0.8542 - val_loss: 0.5023 - val_accuracy: 0.7909\n",
      "Epoch 89/100\n",
      "370/370 [==============================] - 1s 4ms/step - loss: 0.3181 - accuracy: 0.8551 - val_loss: 0.5084 - val_accuracy: 0.7960\n",
      "Epoch 90/100\n",
      "370/370 [==============================] - 1s 2ms/step - loss: 0.3167 - accuracy: 0.8583 - val_loss: 0.4962 - val_accuracy: 0.8004\n",
      "Epoch 91/100\n",
      "370/370 [==============================] - 1s 2ms/step - loss: 0.3155 - accuracy: 0.8602 - val_loss: 0.5063 - val_accuracy: 0.7884\n",
      "Epoch 92/100\n",
      "370/370 [==============================] - 1s 2ms/step - loss: 0.3166 - accuracy: 0.8551 - val_loss: 0.5031 - val_accuracy: 0.8023\n",
      "Epoch 93/100\n",
      "370/370 [==============================] - 1s 2ms/step - loss: 0.3135 - accuracy: 0.8591 - val_loss: 0.5248 - val_accuracy: 0.7802\n",
      "Epoch 94/100\n",
      "370/370 [==============================] - 1s 2ms/step - loss: 0.3149 - accuracy: 0.8559 - val_loss: 0.5154 - val_accuracy: 0.7909\n",
      "Epoch 95/100\n",
      "370/370 [==============================] - 1s 2ms/step - loss: 0.3156 - accuracy: 0.8564 - val_loss: 0.5060 - val_accuracy: 0.8035\n",
      "Epoch 96/100\n",
      "370/370 [==============================] - 1s 2ms/step - loss: 0.3162 - accuracy: 0.8569 - val_loss: 0.5147 - val_accuracy: 0.7915\n",
      "Epoch 97/100\n",
      "370/370 [==============================] - 1s 2ms/step - loss: 0.3150 - accuracy: 0.8588 - val_loss: 0.5135 - val_accuracy: 0.7979\n",
      "Epoch 98/100\n",
      "370/370 [==============================] - 1s 2ms/step - loss: 0.3154 - accuracy: 0.8567 - val_loss: 0.5156 - val_accuracy: 0.8016\n",
      "Epoch 99/100\n",
      "370/370 [==============================] - 1s 2ms/step - loss: 0.3119 - accuracy: 0.8616 - val_loss: 0.5085 - val_accuracy: 0.7928\n",
      "Epoch 100/100\n",
      "370/370 [==============================] - 1s 2ms/step - loss: 0.3129 - accuracy: 0.8578 - val_loss: 0.5189 - val_accuracy: 0.7947\n"
     ]
    }
   ],
   "source": [
    "model_history = model.fit(x_train, y_train,  validation_split= 0.30, batch_size= 10, epochs = 100)"
   ]
  },
  {
   "cell_type": "code",
   "execution_count": 44,
   "metadata": {},
   "outputs": [
    {
     "name": "stdout",
     "output_type": "stream",
     "text": [
      "55/55 [==============================] - 0s 1ms/step - loss: 0.5704 - accuracy: 0.7668\n"
     ]
    },
    {
     "data": {
      "text/plain": [
       "[0.570441484451294, 0.766780436038971]"
      ]
     },
     "execution_count": 44,
     "metadata": {},
     "output_type": "execute_result"
    }
   ],
   "source": [
    "model.evaluate(x_test, y_test)"
   ]
  },
  {
   "cell_type": "code",
   "execution_count": 48,
   "metadata": {},
   "outputs": [],
   "source": [
    "y_pred = model.predict(x_test)\n",
    "y_pred = (y_pred > 0.5)"
   ]
  },
  {
   "cell_type": "code",
   "execution_count": 49,
   "metadata": {},
   "outputs": [
    {
     "name": "stdout",
     "output_type": "stream",
     "text": [
      "accuracy_score :  0.7667804323094426 \n",
      "\n",
      "confusion_matrix :\n"
     ]
    },
    {
     "data": {
      "text/plain": [
       "array([[1109,  191],\n",
       "       [ 219,  239]], dtype=int64)"
      ]
     },
     "execution_count": 49,
     "metadata": {},
     "output_type": "execute_result"
    },
    {
     "name": "stdout",
     "output_type": "stream",
     "text": [
      "classification_report :\n",
      "              precision    recall  f1-score   support\n",
      "\n",
      "           0       0.84      0.85      0.84      1300\n",
      "           1       0.56      0.52      0.54       458\n",
      "\n",
      "    accuracy                           0.77      1758\n",
      "   macro avg       0.70      0.69      0.69      1758\n",
      "weighted avg       0.76      0.77      0.76      1758\n",
      "\n"
     ]
    }
   ],
   "source": [
    "from sklearn.metrics import accuracy_score, confusion_matrix, classification_report\n",
    "print(\"accuracy_score : \", accuracy_score(y_test, y_pred), '\\n')\n",
    "print(\"confusion_matrix :\")\n",
    "confusion_matrix(y_test, y_pred)\n",
    "print(\"classification_report :\")\n",
    "print(classification_report(y_test, y_pred))"
   ]
  },
  {
   "cell_type": "code",
   "execution_count": null,
   "metadata": {},
   "outputs": [],
   "source": []
  }
 ],
 "metadata": {
  "kernelspec": {
   "display_name": "Python 3",
   "language": "python",
   "name": "python3"
  },
  "language_info": {
   "codemirror_mode": {
    "name": "ipython",
    "version": 3
   },
   "file_extension": ".py",
   "mimetype": "text/x-python",
   "name": "python",
   "nbconvert_exporter": "python",
   "pygments_lexer": "ipython3",
   "version": "3.7.4"
  }
 },
 "nbformat": 4,
 "nbformat_minor": 2
}
